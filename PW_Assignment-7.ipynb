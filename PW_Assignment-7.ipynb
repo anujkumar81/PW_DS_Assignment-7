{
 "cells": [
  {
   "cell_type": "code",
   "execution_count": null,
   "id": "12e733ee-08ed-4092-b2bd-42bb4a9b273f",
   "metadata": {},
   "outputs": [],
   "source": [
    "# Question 1:\n",
    "'''What is Abstraction in OOps? Explain with an example.'''\n",
    "# Answer:\n",
    "\"\"\"Abstraction is a fundamental concept in Object-Oriented Programming (OOP) that focuses on simplifying complex reality by modeling classes based on the essential characteristics and behavior of objects. It involves the creation of abstract classes and interfaces that define the structure and methods that derived classes (concrete classes) must implement. Abstraction allows you to hide the intricate implementation details and only expose the necessary features to the outside world.\"\"\""
   ]
  },
  {
   "cell_type": "code",
   "execution_count": 6,
   "id": "3965455f-0360-42bb-b9f3-a4a880171b8a",
   "metadata": {},
   "outputs": [],
   "source": [
    "# Example:\n",
    "class Car:\n",
    "    def __init__(self, make, model):\n",
    "        self.make = make\n",
    "        self.model = model\n",
    "        self.speed = 0\n",
    "    \n",
    "    def accelerate(self):\n",
    "        self.speed += 10\n",
    "    \n",
    "    def brake(self):\n",
    "        self.speed -= 10\n",
    "    \n",
    "    def get_speed(self):\n",
    "        return self.speed"
   ]
  },
  {
   "cell_type": "code",
   "execution_count": 2,
   "id": "8757aaea-3418-41e9-8b9e-8fb1cd615b07",
   "metadata": {},
   "outputs": [],
   "source": [
    "my_car = Car(\"Toyota\", \"Camry\")"
   ]
  },
  {
   "cell_type": "code",
   "execution_count": 3,
   "id": "94bea5a8-f36e-43a0-be49-a5650571488c",
   "metadata": {},
   "outputs": [],
   "source": [
    "my_car.accelerate()\n",
    "my_car.accelerate()"
   ]
  },
  {
   "cell_type": "code",
   "execution_count": 4,
   "id": "3932dd4c-d830-44b0-a42f-78e97c218ca0",
   "metadata": {},
   "outputs": [
    {
     "name": "stdout",
     "output_type": "stream",
     "text": [
      "Current speed: 20\n"
     ]
    }
   ],
   "source": [
    "print(\"Current speed:\", my_car.get_speed())"
   ]
  },
  {
   "cell_type": "code",
   "execution_count": null,
   "id": "583bc9bb-0f19-436f-838e-d54f244416e8",
   "metadata": {},
   "outputs": [],
   "source": []
  },
  {
   "cell_type": "code",
   "execution_count": null,
   "id": "efc65953-f3cc-4b23-8b8a-9e8d76201fda",
   "metadata": {},
   "outputs": [],
   "source": [
    "# Question 2:\n",
    "\"\"\"Differentiate between Abstraction and Encapsulation. Explain with an example.\"\"\"\n",
    "#Answer:\n",
    "\n",
    "# Abstraction:\n",
    "\n",
    "#1. Abstraction is about representing the essential characteristics of an object while hiding the unnecessary details.\n",
    "#2. It involves defining the interface of a class, which includes its attributes (data members) and methods (functions), that are relevant for the outside world.\n",
    "#3. Abstraction provides a high-level view of an object, allowing you to focus on what an object does rather than how it does it.\n",
    "#4. It helps in simplifying complex systems and making them more understandable by breaking them down into smaller, manageable components.\n",
    "\n",
    "# Encapsulation:\n",
    "\n",
    "#1. Encapsulation is about bundling the data (attributes) and methods (functions) that operate on the data into a single unit (class).\n",
    "#2. It enforces the idea of data hiding, where the internal details of how data is stored and manipulated are kept hidden from outside access.\n",
    "#3. Access to the data is controlled through public methods (getters and setters) provided by the class, allowing controlled and validated interaction with the data.\n",
    "#4. Encapsulation enhances data integrity and security, preventing unintended modifications to the data and ensuring consistent state."
   ]
  },
  {
   "cell_type": "code",
   "execution_count": 8,
   "id": "a2124966-2dc1-4015-b117-0c0d1ed6dc1f",
   "metadata": {},
   "outputs": [
    {
     "name": "stdout",
     "output_type": "stream",
     "text": [
      "Current balance: 1200\n"
     ]
    }
   ],
   "source": [
    "# Example:\n",
    "class BankAccount:\n",
    "    def __init__(self, account_number, balance):\n",
    "        self.__account_number = account_number \n",
    "        self.__balance = balance \n",
    "    \n",
    "    def deposit(self, amount):\n",
    "        self.__balance += amount\n",
    "    \n",
    "    def withdraw(self, amount):\n",
    "        if amount <= self.__balance:\n",
    "            self.__balance -= amount\n",
    "    \n",
    "    def get_balance(self):\n",
    "        return self.__balance\n",
    "account = BankAccount(\"123456\", 1000)\n",
    "account.deposit(500)\n",
    "account.withdraw(300)\n",
    "print(\"Current balance:\", account.get_balance())\n"
   ]
  },
  {
   "cell_type": "code",
   "execution_count": null,
   "id": "b6f9a7cc-c7d8-4f26-96f4-47cf14d36d63",
   "metadata": {},
   "outputs": [],
   "source": []
  },
  {
   "cell_type": "code",
   "execution_count": null,
   "id": "ec3de662-b451-4bf4-b9df-0d14912e5422",
   "metadata": {},
   "outputs": [],
   "source": [
    "# Question 3:\n",
    "''' What is abc module in python? Why is it used?'''\n",
    "# Answer:\n",
    "\n",
    "\"\"\"The abc module in Python stands for \"Abstract Base Classes.\" It is a module within the Python standard library that provides mechanisms to define and work with abstract classes. Abstract classes are classes that cannot be instantiated themselves but serve as templates for creating concrete subclasses. They define a set of methods that subclasses must implement, ensuring a certain level of consistency and structure in derived classes.\n",
    "\n",
    "The abc module is used to create and work with abstract classes and interfaces. It is particularly useful for enforcing a specific structure or behavior in subclasses, making your code more organized and maintainable. Here are the key components and purposes of the abc module:\n",
    "\n",
    "Abstract Base Classes (ABCs): You can create abstract classes using the abc.ABC class as a base. Abstract methods, which are methods without implementations, are defined within these classes. Subclasses of these abstract base classes are required to provide implementations for these abstract methods.\n",
    "\n",
    "Abstract Methods: Abstract methods are declared using the @abstractmethod decorator. Any class that inherits from an abstract base class with abstract methods must implement these methods, providing concrete implementations.\n",
    "\n",
    "Concrete Subclasses: Classes that inherit from an abstract base class need to provide implementations for all abstract methods defined in the base class. This ensures that instances of the subclass have the expected behavior.\"\"\""
   ]
  },
  {
   "cell_type": "code",
   "execution_count": null,
   "id": "7fd63440-3829-481a-a98a-30320761bd40",
   "metadata": {},
   "outputs": [],
   "source": []
  },
  {
   "cell_type": "code",
   "execution_count": null,
   "id": "e8e22e22-09b8-43b8-8082-e21aae98246c",
   "metadata": {},
   "outputs": [],
   "source": [
    "# Question 4:\n",
    "'''How can we achieve data abstraction?'''\n",
    "#Answer:\n",
    "\n",
    "# Define a Class: Create a class that represents the abstract data type you want to model. This class should define the attributes (data members) that hold the data and the methods (functions) that operate on that data.\n",
    "\n",
    "# Access Modifiers: Use access modifiers to control the visibility and access to the attributes and methods of the class. In most programming languages, you can set attributes and methods as public, private, protected, or package-private (default).\n",
    "\n",
    "# Hide Implementation Details: Keep the internal implementation details of the class hidden from external code. This is often done by marking attributes as private and exposing them through public methods (getters and setters) for controlled access.\n",
    "\n",
    "# Provide a Public Interface: Create methods that provide a clear and consistent interface for interacting with the class. This interface should include methods that allow users to interact with the data in a meaningful way without needing to know the internal details.\n",
    "\n",
    "# Abstract Methods: If necessary, define abstract methods in an abstract base class. This enforces the requirement that subclasses implement these methods, ensuring a consistent behavior across different subclasses.\n",
    "\n",
    "# Inheritance: Utilize inheritance to create specialized subclasses that inherit the attributes and methods of the parent class. These subclasses can further refine and extend the behavior of the abstract class.\n",
    "\n",
    "# Instance Creation: Instantiate objects of the class to work with the abstracted data. External code interacts with the objects through the provided public methods, and the internal details are hidden."
   ]
  },
  {
   "cell_type": "code",
   "execution_count": null,
   "id": "a39d9528-9192-4a9a-b308-619b7d0326b0",
   "metadata": {},
   "outputs": [],
   "source": []
  },
  {
   "cell_type": "code",
   "execution_count": null,
   "id": "178c1402-818b-4ac0-9590-68cad63b594e",
   "metadata": {},
   "outputs": [],
   "source": [
    "# Question 5:\n",
    "'''Can we create an instance of an abstract class? Explain your answer.'''\n",
    "# Answer:\n",
    "\n",
    "# No, you cannot create an instance of an abstract class directly. Abstract classes are meant to serve as templates for other classes to inherit from, and they often contain one or more abstract methods that need to be implemented by the concrete subclasses. An abstract class itself is incomplete and lacks the necessary implementations for its abstract methods.\n",
    "\n",
    "# Attempting to directly create an instance of an abstract class will result in an error. This is because the abstract class is not meant to be instantiated; it's designed to be extended by subclasses that provide the missing implementations for its abstract methods.\n",
    "\n",
    "# For example, in Python, if you have an abstract class defined using the abc module, you would get an error if you try to create an instance of it:"
   ]
  },
  {
   "cell_type": "code",
   "execution_count": 11,
   "id": "934faa74-aa31-49fc-84aa-907e787fc4a0",
   "metadata": {},
   "outputs": [],
   "source": [
    "from abc import ABC, abstractmethod\n",
    "\n",
    "class AbstractClass(ABC):\n",
    "    @abstractmethod\n",
    "    def abstract_method(self):\n",
    "        pass\n"
   ]
  },
  {
   "cell_type": "code",
   "execution_count": 12,
   "id": "56237440-c0a6-4dfb-9d8f-f128adb9a9b7",
   "metadata": {},
   "outputs": [
    {
     "name": "stdout",
     "output_type": "stream",
     "text": [
      "Implementation of abstract_method\n"
     ]
    }
   ],
   "source": [
    "class ConcreteClass(AbstractClass):\n",
    "    def abstract_method(self):\n",
    "        print(\"Implementation of abstract_method\")\n",
    "\n",
    "instance = ConcreteClass()\n",
    "instance.abstract_method()\n"
   ]
  },
  {
   "cell_type": "code",
   "execution_count": null,
   "id": "058b82f6-9c80-47fb-8148-f048f3ef3e23",
   "metadata": {},
   "outputs": [],
   "source": []
  }
 ],
 "metadata": {
  "kernelspec": {
   "display_name": "Python 3 (ipykernel)",
   "language": "python",
   "name": "python3"
  },
  "language_info": {
   "codemirror_mode": {
    "name": "ipython",
    "version": 3
   },
   "file_extension": ".py",
   "mimetype": "text/x-python",
   "name": "python",
   "nbconvert_exporter": "python",
   "pygments_lexer": "ipython3",
   "version": "3.10.8"
  }
 },
 "nbformat": 4,
 "nbformat_minor": 5
}
